{
 "cells": [
  {
   "source": [
    "Similarly, if you need to use `Gurobi`"
   ],
   "cell_type": "markdown",
   "metadata": {}
  },
  {
   "source": [
    "# 3. Thermodynamic variability analysis (TVA)\n",
    "\n",
    "There exists multiple flux states that define the same optimum. TVA predicts the ranges of variables such as metabolic fluxes, Gibbs energy of reactions and metabolite concentrations by taking into account of thermodynamic uncertainities using multivariate approach.\n",
    "\n",
    "As described previously, you can solve the TVA problem on either the MILP or MIQCP. Although, MILP is faster compared to solving MIQCP, MIQCP is thermodynamically consistent as they drawn from multivariate distribution. \n",
    "\n",
    "There are three different functions for running TVA in multiTFA. One for the MILP, the remaining two for MIQCP, depending on the solver you use (either Gurobi or Cplex).\n",
    "\n",
    "By default, TVA is performed on all the variables in a model unless `variable_list` parameter is specified. It is a `list` of variable names you want to perform TVA on. For example reactons id's or names of Gibbs energy variables etc.\n",
    "\n",
    "The example below demonstrates how to perform TVA on *E. coli* core model with constraints described in previous sections. We will use `cplex` for our calculations. In our observations `Cplex` ourperforms `Gurobi`. \n"
   ],
   "cell_type": "markdown",
   "metadata": {}
  },
  {
   "cell_type": "code",
   "execution_count": 1,
   "metadata": {
    "tags": []
   },
   "outputs": [
    {
     "output_type": "stream",
     "name": "stdout",
     "text": [
      "Downloading package metadata...\n",
      "Fragments already downloaded\n",
      "Downloading package metadata...\n",
      "Fragments already downloaded\n",
      "Downloading package metadata...\n",
      "Fragments already downloaded\n",
      "Using license file /home/vishnu/gurobi.lic\n",
      "Academic license - for non-commercial use only\n",
      "Read LP format model from file /tmp/tmpgbxvilzh.lp\n",
      "Reading time = 0.00 seconds\n",
      ": 72 rows, 190 columns, 720 nonzeros\n"
     ]
    }
   ],
   "source": [
    "from multitfa.test_model import load_test_data\n",
    "tfa_model = load_test_data() # Load the test model\n",
    "\n",
    "from multitfa import analysis\n",
    "dg_vars = [rxn.delG_forward.name for rxn in tfa_model.reactions if rxn.id not in tfa_model.Exclude_reactions] # Gibbs energy variable names\n"
   ]
  },
  {
   "source": [
    "Now let us perform TVA on `tfa_model` using univariate approch and calculate ranges on reaction flux variables"
   ],
   "cell_type": "markdown",
   "metadata": {}
  },
  {
   "cell_type": "code",
   "execution_count": 14,
   "metadata": {},
   "outputs": [
    {
     "output_type": "stream",
     "name": "stdout",
     "text": [
      "               minimum    maximum\ndG_PFK      -65.527361  26.205939\ndG_PFL      -72.197674  33.074152\ndG_PGI      -19.085713  24.931203\ndG_PGK        0.000000  59.219274\ndG_PGL      -40.671665  28.293843\n...                ...        ...\ndG_ME2      -70.983610  57.688660\ndG_NADH16  -194.698524 -61.742679\ndG_NADTRHD  -58.319625  35.223606\ndG_NH4t     -13.742207  32.066015\ndG_PDH     -116.749219  38.743581\n\n[72 rows x 2 columns]\n"
     ]
    }
   ],
   "source": [
    "tfa_model.solver = 'cplex'\n",
    "ranges_box = analysis.variability(tfa_model, variable_list = dg_vars) # TVA using MILP\n",
    "print(ranges_box)"
   ]
  },
  {
   "source": [
    " `ranges_box` is a `pandas DataFrame` which can be readily exported to a csv. "
   ],
   "cell_type": "markdown",
   "metadata": {}
  },
  {
   "cell_type": "code",
   "execution_count": null,
   "metadata": {},
   "outputs": [],
   "source": [
    "ranges_box.to_csv('ranges.csv')"
   ]
  },
  {
   "source": [
    "Now lets solve the TVA with multivariate approach using MIQCP. There are two functions one when using `Gurobi` and another for `Cplex`."
   ],
   "cell_type": "markdown",
   "metadata": {}
  },
  {
   "cell_type": "code",
   "execution_count": null,
   "metadata": {},
   "outputs": [],
   "source": [
    "ranges_MIQC_cplex = analysis.variability_legacy_cplex(tfa_model,variable_list = dg_vars) # TVA using MIQCP with cplex\n",
    "print(ranges_MIQC_cplex)"
   ]
  },
  {
   "source": [
    "Setting the parameter `fraction_of_optim=0.9` would give variable ranges at 90% optimality of specified variable optimality. The variable should be specified by Setting `biomass_rxn` parameter.  "
   ],
   "cell_type": "markdown",
   "metadata": {}
  },
  {
   "cell_type": "code",
   "execution_count": 13,
   "metadata": {
    "tags": []
   },
   "outputs": [
    {
     "output_type": "stream",
     "name": "stdout",
     "text": [
      "\n",
      "Selected objective sense:  MINIMIZE\n",
      "Selected objective  name:  37118d97-5947-11eb-b03f-509a4c43d0a7\n",
      "Selected RHS        name:  rhs\n",
      "Selected bound      name:  bnd\n",
      "                 minimum    maximum\n",
      "dG_PFK     -6.349569e+01  24.174265\n",
      "dG_PFL     -7.084883e+01  31.725309\n",
      "dG_PGI     -1.940986e+01  25.255346\n",
      "dG_PGK      8.314189e-09  56.021188\n",
      "dG_PGL     -4.961171e+01  37.233887\n",
      "...                  ...        ...\n",
      "dG_ME2     -8.241713e+01  69.129418\n",
      "dG_NADH16  -2.107758e+02 -33.736303\n",
      "dG_NADTRHD -4.100270e+01  23.163226\n",
      "dG_NH4t    -9.670293e+00  27.994102\n",
      "dG_PDH     -1.200410e+02  31.809464\n",
      "\n",
      "[72 rows x 2 columns]\n"
     ]
    }
   ],
   "source": [
    "ranges_MIQC_cplex_mingrowth = analysis.variability_legacy_cplex(tfa_model,variable_list=dg_vars, biomass_rxn='BIOMASS_Ecoli_core_w_GAM', fraction_of_optim=0.9)\n",
    "print(ranges_MIQC_cplex_mingrowth)"
   ]
  },
  {
   "source": [
    "Similarly, if you need to use `Gurobi`"
   ],
   "cell_type": "markdown",
   "metadata": {}
  },
  {
   "cell_type": "code",
   "execution_count": null,
   "metadata": {},
   "outputs": [],
   "source": [
    "tfa_model.solver = 'gurobi'\n",
    "ranges_MIQC_grb_mingrowth = analysis.variability_legacy_gurobi(tfa_model,variable_list=dg_vars, fraction_of_optim=0.9)\n",
    "print(ranges_MIQC_grb_mingrowth)"
   ]
  },
  {
   "source": [
    "Please note, runnig TVA on genome scale model is computationally expensive, especially using MIQC problems. We have observed that relaxing the `Gap` parameter helped achieving faster run times. "
   ],
   "cell_type": "markdown",
   "metadata": {}
  },
  {
   "source": [
    "## 3.1 Alternative way to solve MIQC\n",
    "\n",
    "When `Gurobi` or `Cplex` is not available, and if you wanted to run MIQC problem, we developed a sampling based approach to solve the MIQCP. We sample the uncertainity variables on the surface of the ellipsoid and solve the subsequent MILP problem. This can be solved using MILP solvers. The exit criterion of the sampler can be chosen as either\n",
    "\n",
    "(1) the number of samples since last improvement or \n",
    "(2) a fixed number of samples followed by use of a generalized extreme value distribution to infer the maximum value."
   ],
   "cell_type": "markdown",
   "metadata": {}
  },
  {
   "cell_type": "code",
   "execution_count": 4,
   "metadata": {},
   "outputs": [
    {
     "output_type": "stream",
     "name": "stdout",
     "text": [
      "Read LP format model from file /tmp/tmpzx24mpn1.lp\n",
      "Reading time = 0.01 seconds\n",
      ": 504 rows, 622 columns, 2492 nonzeros\n"
     ]
    }
   ],
   "source": [
    "gev_ranges, gev_samples = analysis.gev_sampling(tfa_model, variable_list=dg_vars, cutoff = 100)"
   ]
  },
  {
   "cell_type": "code",
   "execution_count": 5,
   "metadata": {},
   "outputs": [
    {
     "output_type": "stream",
     "name": "stdout",
     "text": [
      "            minimum    maximum       minimum    maximum     minimum  \\\ndG_PFK          0.0  20.189736 -5.811624e+01  17.212549  -56.265716   \ndG_PFL          0.0  23.289971 -5.623179e+01  19.097002  -56.211262   \ndG_PGI          0.0  22.840318 -1.607155e+01  21.592842  -15.594077   \ndG_PGK          0.0  56.030152 -6.257324e-10  51.099571  -20.924373   \ndG_PGL          0.0  26.877198 -3.448756e+01  22.009031  -34.640034   \n...             ...        ...           ...        ...         ...   \ndG_ME2          0.0  51.034598 -5.348991e+01  40.671081  -51.076494   \ndG_NADH16       0.0 -50.438180 -1.571160e+02 -93.241204 -165.927104   \ndG_NADTRHD      0.0  41.380232 -3.717106e+01  38.157733  -39.014512   \ndG_NH4t         0.0  27.993973 -9.670293e+00  27.994102   -9.670293   \ndG_PDH          0.0  33.986692 -8.756349e+01  24.936351  -91.428854   \n\n               maximum     minimum    maximum       minimum    maximum  ...  \\\ndG_PFK       19.063074  -57.229705  18.099084 -5.676117e+01  18.567619  ...   \ndG_PFL       19.117528  -54.648665  20.680124 -5.827213e+01  17.056658  ...   \ndG_PGI       22.070318  -15.854720  21.809675 -1.621950e+01  21.444892  ...   \ndG_PGK       54.404416  -19.864596  50.096650 -3.856258e-09  50.742960  ...   \ndG_PGL       21.856558  -37.271288  19.225304 -3.160170e+01  24.894888  ...   \n...                ...         ...        ...           ...        ...  ...   \ndG_ME2       43.084493  -55.555469  38.605518 -5.251433e+01  41.646656  ...   \ndG_NADH16  -101.567652 -163.830803 -88.502013 -1.546511e+02 -91.722042  ...   \ndG_NADTRHD   25.344940  -38.520962  36.807827 -3.858784e+01  24.341262  ...   \ndG_NH4t      27.994102   -9.670293  27.994102 -9.670293e+00  27.994102  ...   \ndG_PDH       21.564330  -89.876866  23.116319 -8.882591e+01  24.167275  ...   \n\n                 minimum    maximum       minimum    maximum     minimum  \\\ndG_PFK     -5.757796e+01  17.750826 -5.666267e+01  18.666117  -57.793117   \ndG_PFL     -5.881811e+01  16.510681 -5.762598e+01  17.702806  -58.484545   \ndG_PGI     -1.696452e+01  20.699870 -1.606984e+01  21.594551  -15.324814   \ndG_PGK     -9.749783e-10  50.059825 -5.093170e-10  51.944428  -20.114116   \ndG_PGL     -3.397985e+01  22.516738 -3.260145e+01  23.895144  -35.459992   \n...                  ...        ...           ...        ...         ...   \ndG_ME2     -5.164268e+01  42.518312 -5.460440e+01  39.556587  -48.448557   \ndG_NADH16  -1.578154e+02 -82.486603 -1.721613e+02 -96.832531 -158.898317   \ndG_NADTRHD -3.830048e+01  20.235193 -3.755670e+01  37.772092  -37.822000   \ndG_NH4t    -9.670293e+00  27.994102 -9.670293e+00  27.994102   -9.670293   \ndG_PDH     -9.187563e+01   9.629843 -8.851340e+01  12.350446  -85.801831   \n\n              maximum       minimum    maximum       minimum    maximum  \ndG_PFK      17.535672 -5.765539e+01  17.673400 -5.668015e+01  18.648636  \ndG_PFL      16.844244 -5.620182e+01  19.126971 -5.882838e+01  16.500411  \ndG_PGI      22.339581 -1.564075e+01  22.023645 -1.568932e+01  21.975077  \ndG_PGK      51.156665 -1.600711e-09  50.272627  2.648449e-09  50.711082  \ndG_PGL      21.036600 -3.758862e+01  18.907974 -3.417505e+01  22.321546  \n...               ...           ...        ...           ...        ...  \ndG_ME2      45.712430 -5.292173e+01  41.239258 -4.834267e+01  45.818312  \ndG_NADH16  -83.569528 -1.676804e+02 -92.351650 -1.657341e+02 -90.405331  \ndG_NADTRHD  25.797599 -3.841301e+01  25.144798 -3.815188e+01  24.586774  \ndG_NH4t     27.994102 -9.670293e+00  27.994102 -9.670293e+00  27.994102  \ndG_PDH      15.482162 -8.992769e+01  23.065490 -8.722227e+01  25.770909  \n\n[72 rows x 202 columns]\n"
     ]
    }
   ],
   "source": [
    "print(gev_samples)"
   ]
  },
  {
   "source": [
    "`gev_samples` is the alternate set of Gibbs energy of reactions and `gev_ranges` is the max-min ranges of Gibbs energy of reactions. By specifying `cutoff` parameter, we specify how many samples we use to train the extreme value distribution (default, 1000). The more samples the better. "
   ],
   "cell_type": "markdown",
   "metadata": {}
  },
  {
   "source": [
    "Alternatively, you could choose to use the other exit crieteria where if we don't see improvement since a defined number of samples."
   ],
   "cell_type": "markdown",
   "metadata": {}
  },
  {
   "cell_type": "code",
   "execution_count": 7,
   "metadata": {},
   "outputs": [
    {
     "output_type": "stream",
     "name": "stdout",
     "text": [
      "Read LP format model from file /tmp/tmpk_dbj9vr.lp\n",
      "Reading time = 0.01 seconds\n",
      ": 504 rows, 622 columns, 2492 nonzeros\n"
     ]
    }
   ],
   "source": [
    "cutoff_ranges, cutoff_samples, num_samples = analysis.cutoff_sampling(tfa_model, cutoff=10, variable_list=dg_vars)"
   ]
  },
  {
   "source": [
    "Here, `cutoff_ranges`, `cutoff_samples`, `num_samples` represents max-min Gibbs energy ranges of reactions, alternate Gibbs energy of reactions and num of samples to achieve the exit."
   ],
   "cell_type": "markdown",
   "metadata": {}
  },
  {
   "cell_type": "code",
   "execution_count": 9,
   "metadata": {},
   "outputs": [
    {
     "output_type": "stream",
     "name": "stdout",
     "text": [
      "            minimum    maximum       minimum    maximum       minimum  \\\ndG_PFK          0.0  19.969166 -5.817907e+01  17.149720 -5.708765e+01   \ndG_PFL          0.0  23.019117 -5.699259e+01  18.336197 -5.723720e+01   \ndG_PGI          0.0  22.796442 -1.543749e+01  22.226905 -1.602886e+01   \ndG_PGK          0.0  55.244833  4.016329e-09  49.911694 -5.049515e-09   \ndG_PGL          0.0  26.849433 -3.293232e+01  23.564273 -3.471207e+01   \n...             ...        ...           ...        ...           ...   \ndG_ME2          0.0  49.767854 -5.371313e+01  40.447855 -5.460166e+01   \ndG_NADH16       0.0 -64.819093 -1.656771e+02 -90.348353 -1.494706e+02   \ndG_NADTRHD      0.0  56.062960 -3.840931e+01  25.263307 -3.802311e+01   \ndG_NH4t         0.0  27.994102 -9.670293e+00  27.994102 -9.670293e+00   \ndG_PDH          0.0  33.986690 -8.988640e+01  23.106782 -9.254878e+01   \n\n              maximum       minimum    maximum       minimum    maximum  ...  \\\ndG_PFK      18.241140 -5.709267e+01  18.236124 -5.842805e+01  16.900742  ...   \ndG_PFL      18.091587 -5.586492e+01  19.463868 -5.758131e+01  17.747478  ...   \ndG_PGI      21.635534 -1.528632e+01  22.378074 -1.587693e+01  21.787461  ...   \ndG_PGK      50.520465 -6.068149e-09  50.844009  1.440640e-09  50.838904  ...   \ndG_PGL      21.784522 -3.345515e+01  23.041441 -3.567267e+01  20.823920  ...   \n...               ...           ...        ...           ...        ...  ...   \ndG_ME2      39.559330 -5.066440e+01  43.496589 -5.324031e+01  40.920681  ...   \ndG_NADH16  -74.141853 -1.553696e+02 -92.188920 -1.655644e+02 -90.235604  ...   \ndG_NADTRHD  37.305683 -3.864588e+01  36.682912 -3.770093e+01  26.099683  ...   \ndG_NH4t     27.994102 -9.670293e+00  27.994102 -9.670293e+00  27.994102  ...   \ndG_PDH      20.444404 -8.607325e+01  26.919932 -8.922106e+01  23.748157  ...   \n\n               minimum    maximum       minimum    maximum     minimum  \\\ndG_PFK      -57.087743  18.241047 -5.733047e+01  17.998324  -58.562646   \ndG_PFL      -56.506727  18.822062 -5.794604e+01  17.382747  -56.465096   \ndG_PGI      -16.254436  21.409959 -1.614163e+01  21.522768  -15.790772   \ndG_PGK        0.000000  51.569993  5.995389e-09  50.820865  -19.857145   \ndG_PGL      -34.570290  21.926302 -3.657745e+01  19.919138  -30.925163   \n...                ...        ...           ...        ...         ...   \ndG_ME2      -49.898395  44.262592 -4.908510e+01  45.075891  -54.544941   \ndG_NADH16  -154.881719 -92.015959 -1.629473e+02 -87.618512 -149.623645   \ndG_NADTRHD  -38.759231  24.106529 -3.829557e+01  37.033218  -38.106783   \ndG_NH4t      -9.670293  27.994102 -9.670293e+00  27.994102   -9.670293   \ndG_PDH      -86.908599  13.621555 -8.677756e+01  26.215620  -91.850439   \n\n              maximum     minimum    maximum       minimum    maximum  \ndG_PFK      16.766143  -57.451623  17.877167 -5.613552e+01  19.193272  \ndG_PFL      18.863693  -57.929368  17.399422 -5.655356e+01  18.775229  \ndG_PGI      21.873623  -15.909002  21.755393 -1.648268e+01  21.181715  \ndG_PGK      50.864804  -20.091404  55.237385 -5.165930e-09  50.740656  \ndG_PGL      25.571429  -34.674398  21.822194 -3.211478e+01  24.381808  \n...               ...         ...        ...           ...        ...  \ndG_ME2      39.616046  -54.920267  39.240719 -5.986295e+01  34.298037  \ndG_NADH16  -86.717529 -164.268269 -88.939480 -1.618317e+02 -86.502879  \ndG_NADTRHD  18.669521  -37.979850  37.348939 -3.785584e+01  25.363539  \ndG_NH4t     27.994102   -9.670293  27.994102 -9.670293e+00  27.994102  \ndG_PDH       8.720072  -91.055169  10.164340 -9.626343e+01  16.729750  \n\n[72 rows x 26 columns]\n"
     ]
    }
   ],
   "source": [
    "print(cutoff_samples)"
   ]
  },
  {
   "source": [
    "## 3.2 Network embeded thermodynamics (NET)\n",
    "\n",
    "By using the TVA apparoches demonstrated above, one can perform NET type of analysis. For example, we can fix the directionalities of all the reactions and sample for the metabolite concentrations. \n",
    "\n",
    "Reaction directionalities can be fixed by adjusting the lower or upper bounds of the reactions."
   ],
   "cell_type": "markdown",
   "metadata": {}
  },
  {
   "cell_type": "code",
   "execution_count": 10,
   "metadata": {},
   "outputs": [
    {
     "output_type": "stream",
     "name": "stdout",
     "text": [
      "lower bound is -1000.0 and upper bound is 1000.0\n\nupdated lower and upper bounds are 0 \t 1000.0\n\n"
     ]
    }
   ],
   "source": [
    "atps = tfa_model.reactions.get_by_id('ATPS4r')\n",
    "print(\"lower bound is {} and upper bound is {}\\n\".format(atps.lower_bound, atps.upper_bound))\n",
    "atps.lower_bound = 0\n",
    "print(\"updated lower and upper bounds are {} \\t {}\\n\".format(atps.lower_bound, atps.upper_bound))"
   ]
  },
  {
   "source": [
    "We can access the metabolite concentration variables as shown below,"
   ],
   "cell_type": "markdown",
   "metadata": {}
  },
  {
   "cell_type": "code",
   "execution_count": 12,
   "metadata": {},
   "outputs": [
    {
     "output_type": "stream",
     "name": "stdout",
     "text": [
      "\n",
      "Selected objective sense:  MINIMIZE\n",
      "Selected objective  name:  37118d97-5947-11eb-b03f-509a4c43d0a7\n",
      "Selected RHS        name:  rhs\n",
      "Selected bound      name:  bnd\n",
      "\n",
      "Selected objective sense:  MINIMIZE\n",
      "Selected objective  name:  37118d97-5947-11eb-b03f-509a4c43d0a7\n",
      "Selected RHS        name:  rhs\n",
      "Selected bound      name:  bnd\n",
      "                minimum   maximum\n",
      "lnc_glc__D_e -11.512925 -3.912023\n",
      "lnc_gln__L_c -11.512925 -3.912023\n",
      "lnc_gln__L_e -11.512925 -3.912023\n",
      "lnc_glu__L_c -11.512925 -3.912023\n",
      "lnc_glu__L_e -11.512925 -3.912023\n",
      "...                 ...       ...\n",
      "lnc_fru_e    -11.512925 -3.912023\n",
      "lnc_fum_c    -11.512925 -3.912023\n",
      "lnc_fum_e    -11.512925 -3.912023\n",
      "lnc_g3p_c    -11.512925 -3.912023\n",
      "lnc_g6p_c    -11.512925 -3.912023\n",
      "\n",
      "[72 rows x 2 columns]\n"
     ]
    }
   ],
   "source": [
    "concentration_vars = [var.name for var in tfa_model.variables if var.name.startswith('lnc_')]\n",
    "tfa_model.solver = 'cplex'\n",
    "concentration_ranges = analysis.variability_legacy_cplex(tfa_model,variable_list = concentration_vars) # TVA using MIQCP with cplex\n",
    "print(concentration_ranges)"
   ]
  },
  {
   "cell_type": "code",
   "execution_count": null,
   "metadata": {},
   "outputs": [],
   "source": []
  }
 ],
 "metadata": {
  "language_info": {
   "codemirror_mode": {
    "name": "ipython",
    "version": 3
   },
   "file_extension": ".py",
   "mimetype": "text/x-python",
   "name": "python",
   "nbconvert_exporter": "python",
   "pygments_lexer": "ipython3",
   "version": "3.6.9-final"
  },
  "orig_nbformat": 2,
  "kernelspec": {
   "name": "python3",
   "display_name": "Python 3.6.9 64-bit ('test_tmfa')",
   "metadata": {
    "interpreter": {
     "hash": "2586d49dccd52e26ba1525073a1c55b1a3ff7ebecaf4fcfc40336f28cb4872d4"
    }
   }
  }
 },
 "nbformat": 4,
 "nbformat_minor": 2
}
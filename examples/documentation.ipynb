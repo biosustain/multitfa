{
 "cells": [
  {
   "cell_type": "markdown",
   "metadata": {},
   "source": [
    "# 1. Getting Started\n",
    "\n",
    "multiTFA is a python package for accurate thermodynamic flux analysis. multiTFA is built on COBRApy to take advantage of COBRA model structure. For installation instructions please refer to **INSTALL.rst**.\n",
    "\n",
    "## 1.1. Building a multiTFA model\n",
    "\n",
    "multiTFA models can be readily constructed from COBRA model objects. To create a model, we require \n",
    "\n",
    "1. A COBRA model\n",
    "\n",
    "2. Metabolite KEGG/SEED identifiers - This is required to match and retrieve thermodyanamic information against our database. Metabolite identifiers can be added to the multiTFA model later. For simplicity, we use the same nomneclature as `equilibrator-api`. \n",
    "\n",
    "3. Compartment specific pH and ionic strength information. To calculate Gibbs energy related to transmembrane transport, information about membrane potential is also required in the form of pandas Dataframes. \n",
    "\n",
    "Additionally, for accurate thermodynamic calculations, intracellular metabolite concentrations can be provided. \n",
    "\n",
    "**NOTE**: All the input information should be in S.I units, e.g: ionic strength, metabolite concentration in Moles.\n",
    "\n",
    "To demonstrate the usage, we use *E. Coli* core model from `BIGG database`.\n"
   ]
  },
  {
   "cell_type": "code",
   "execution_count": null,
   "metadata": {
    "tags": []
   },
   "outputs": [],
   "source": [
    "from cobra import io\n",
    "from multitfa.core import tmodel\n",
    "\n",
    "# Load COBRA model\n",
    "cobra_model = io.load_matlab_model('e_coli_core.mat')\n",
    "\n",
    "# compartment specific properties\n",
    "pH_I_dict = {\n",
    "    \"pH\": {\"c\": 7.5, \"e\": 7, \"p\": 7},\n",
    "    \"I\": {\"c\": 0.25, \"e\": 0, \"p\": 0},\n",
    "}\n",
    "\n",
    "# Membrane potentials\n",
    "del_psi_dict = { \n",
    "\"c\": {\"c\":0,\"e\": 0, \"p\": 150}, \n",
    "\"e\": {\"c\": 0,\"e\":0, \"p\": 0}, \n",
    "\"p\": {\"c\": -150, \"e\": 0, \"p\":0}, \n",
    "} \n",
    "\n",
    "import pandas as pd\n",
    "# Define membrane potential and compartment information in Dataframes\n",
    "del_psi = pd.DataFrame.from_dict(data=del_psi_dict)\n",
    "comp_info = pd.DataFrame.from_dict(data=pH_I_dict)\n",
    "\n",
    "# List of reaction ids that you would like to exclude from thermodynamic analysis, here we exclude demand reactions\n",
    "Excl = [\n",
    "    rxn.id\n",
    "    for rxn in cobra_model.reactions\n",
    "    if rxn.id.startswith(\"EX_\") or rxn.id.startswith(\"DM_\")\n",
    "] + [\"BIOMASS_Ecoli_core_w_GAM\", \"O2t\", \"H2Ot\"]\n",
    "\n",
    "\n",
    "# Now build the multiTFA model from COBRA model\n",
    "tfa_model = tmodel(\n",
    "    cobra_model, Exclude_list=Excl, compartment_info=comp_info, membrane_potential=del_psi\n",
    ")\n"
   ]
  },
  {
   "cell_type": "markdown",
   "metadata": {},
   "source": [
    "In order to access the thermodynamic information from equilibrator api, we need to add a external database identifier against all the metabolites in tfa model. This can be done by populating the 'Kegg_id' property of the metabolites. If you do not know the identifier for some metabolites, it is okay, you can simply add `NA` against it. For simplicity, we use the notation similar to equilibrator api. For the example below in the *E. coli* core model, we use bigg identifiers. You can follow equilibrator api notation for other database identifiers, for example, if you are using `KEGG` identifier, simply use `kegg:kegg identifier`."
   ]
  },
  {
   "cell_type": "code",
   "execution_count": null,
   "metadata": {},
   "outputs": [],
   "source": [
    "for met in tfa_model.metabolites: \n",
    "    kegg_id = 'bigg.metabolite:'+met.id[:-2] \n",
    "    met.Kegg_id = kegg_id\n",
    "\n",
    "tfa_model.update()"
   ]
  },
  {
   "cell_type": "markdown",
   "metadata": {},
   "source": [
    "## 1.2 Metabolites\n",
    "\n",
    "Reactions and metabolites in multiTFA model can be accessed similar to a COBRA model. For demonstration, we will consider cytosolic `ATP` as our metabolite with `atp_c` identifier in tfa_model. We will access `ATP` and print it's standard Gibbs energy of formation and Also, change its intracellular concentration lower and upper bounds to '2e-3' and '5e-2' M respectively from it's default bounds. These changes will reflect in solver variables and constraints."
   ]
  },
  {
   "cell_type": "code",
   "execution_count": null,
   "metadata": {
    "tags": []
   },
   "outputs": [],
   "source": [
    "atp = tfa_model.metabolites.get_by_id('atp_c')\n",
    "print(\"Standard Gibbs energy of formation of ATP is {} KJ/mol\".format(atp.delG_f))\n",
    "print(\"initial concentrations\")\n",
    "print('{}\\t{}\\t{}'.format(atp.id, atp.concentration_min, atp.concentration_max))\n",
    "atp.concentration_min = 2e-3\n",
    "atp.concentration_max = 5e-2\n",
    "print(\"Concentrations after modifying\")\n",
    "print('{}\\t{}\\t{}'.format(atp.id, atp.concentration_min, atp.concentration_max))"
   ]
  },
  {
   "cell_type": "markdown",
   "metadata": {},
   "source": [
    "You can always change the Gibbs energy of formation value of a metabolite by resetting the `delG_f` property of the metabolite. Also, you can access additional information like, major pseudoisomer at given compartment conditions, equilibrator accession of the metabolite."
   ]
  },
  {
   "cell_type": "markdown",
   "metadata": {},
   "source": [
    "## 1.3 Reactions\n",
    "\n",
    "Reactions in multiTFA model are of type cobra.DictList. Similar to COBRA model, reactions can be accessed/retrieved by its index or by it's name and properties/attributes can be accessed. Let us consider ATP synthase raction in our model by 'ATPS4rpp' and access it's attributes.\n"
   ]
  },
  {
   "cell_type": "code",
   "execution_count": null,
   "metadata": {
    "tags": []
   },
   "outputs": [],
   "source": [
    "atps = tfa_model.reactions.get_by_id('ATPS4r')\n",
    "print(atps.reaction)"
   ]
  },
  {
   "cell_type": "markdown",
   "metadata": {},
   "source": [
    "We can access the Gibbs energy of transport and transformed Gibbs energy of the reaction"
   ]
  },
  {
   "cell_type": "code",
   "execution_count": null,
   "metadata": {
    "tags": []
   },
   "outputs": [],
   "source": [
    "print(\"Gibbs energy of transport is {} KJ/mol\".format(atps.delG_transport))\n",
    "print(\"Transform Gibbs energy of is {} KJ/mol\".format(atps.delG_prime))"
   ]
  },
  {
   "cell_type": "markdown",
   "metadata": {},
   "source": [
    "You can always reset the transport and transformed Gibbs energy of reactions. You can also access the stoichiometric matrix of the reaction, all the thermodynamic constraints associated with the reaction."
   ]
  },
  {
   "source": [
    "# 2. Solving a multiTFA model\n",
    "\n",
    "Once you add database identifiers, Compartment information and membrane potential data to the model, you're ready to poupulate the model with thermodynamic constraints. multiTFA offers two different ways to solve the tMFA problem (Please refer to manuscript), \n",
    "\n",
    "1. Univariate type, where each group/component is allowed to vary in 95% confidence interval from respective mean. This is formulated as a mixed integer linear programming problem (MILP)\n",
    "\n",
    "2. Multivariate, where group/component are drawn from multivariate normal distribution subjected to the associated linear constraints. This is a mixed integer quadratic constraint program (MIQCP). In general, MIQCP are computationally expensive.\n",
    "\n",
    "## 2.1. populating the thermodynamic constraints\n",
    "\n",
    "multiTFA model solver is a `optlang` model. By adding the thermodynamic constraints to the model, you're adding new variables and constraints to the `optlang` model. `optlang` currently, doesn't support quadratic constraints. So, we currently support `Cplex/Gurobi` solvers for MIQC problems. You have to access the MIQCP through the model's `gurobi_interface/cplex_interface`. These interfaces are accessible depending on what solver you are using to solve the optlang model. For example, if you are using `Cplex` as your default solver, `cplex_interface` will be available to solve the MIQCP. You can always change the solver using,\n",
    "\n"
   ],
   "cell_type": "markdown",
   "metadata": {}
  },
  {
   "cell_type": "code",
   "execution_count": null,
   "metadata": {
    "tags": []
   },
   "outputs": [],
   "source": [
    "# Changing solver to cplex\n",
    "tfa_model.solver = 'cplex'"
   ]
  },
  {
   "cell_type": "markdown",
   "metadata": {},
   "source": [
    "populating the model is easy, you simply use the `update` function. Now all the thermodynamic constraints are added to the model. Now the model contains thermodynamic constraints along with the mass balance constraints. To see if we have added all the constraints properly, you can check the number of constraints "
   ]
  },
  {
   "cell_type": "code",
   "execution_count": null,
   "metadata": {
    "tags": []
   },
   "outputs": [],
   "source": [
    "print(\"Number of constraints before update {}\".format(len(cobra_model.constraints)))\n",
    "tfa_model.update()\n",
    "print(\"Number of constraints after update {}\".format(len(tfa_model.constraints)))\n",
    "print(len(tfa_model.metabolites) + 6*(len(tfa_model.reactions) - len(tfa_model.Exclude_reactions))) # To check if we have added correct number of constraints"
   ]
  },
  {
   "source": [
    "## 2.2. Solving the model\n",
    "\n",
    "Once we are satisfied with the constraints, we can proceed to solve the problem. By default, `tfa_model` attempts to return the solution to MIQC problem. If `Gurobi/Cplex` is not available, then it proceeds to solve the MILP. The solution structure is a `pd.Dataframe` and you can access Fluxes, Gibbs energies of reactions and metabolite concentrations."
   ],
   "cell_type": "markdown",
   "metadata": {}
  },
  {
   "cell_type": "code",
   "execution_count": null,
   "metadata": {
    "tags": []
   },
   "outputs": [],
   "source": [
    "solution =  tfa_model.optimize(solve_method = 'mip') \n",
    "print(solution)"
   ]
  },
  {
   "cell_type": "markdown",
   "metadata": {},
   "source": [
    "You can always update the properties and they are reflected in the variable bounds. For example, you can change concentration bounds for metabolites and they are automatically changed for both MILP and MIQCP.\n",
    "\n",
    "As mentioned before, MIQCP are not `optlang` models and are individual `Gurobi/Cplex` models. You can access/modify their respective interfaces according to their api."
   ]
  },
  {
   "cell_type": "markdown",
   "metadata": {},
   "source": [
    "# 3. Thermodynamic variability analysis (TVA)\n",
    "\n",
    "There exists multiple flux states that define the same optimum. TVA predicts the ranges of variables such as metabolic fluxes, Gibbs energy of reactions and metabolite concentrations.\n",
    "\n",
    "As described previously, you can solve the TVA problem on either the MILP or MIQCP. Although, MILP is faster compared to solving MIQCP, MIQCP is thermodynamically consistent as they drawn from multivariate distribution. \n",
    "\n",
    "There are three different functions for running TVA in multiTFA. One for the MILP, the remaining two for MIQCP, depending on the solver you use (either Gurobi or Cplex).\n",
    "\n",
    "By default, TVA is performed on all the variables in a model unless `variable_list` is specified. Please note, `variable_list` is a `list` of `str`. For example reactons id's or names of Gibbs energy variables etc. \n"
   ]
  },
  {
   "cell_type": "code",
   "execution_count": null,
   "metadata": {
    "tags": []
   },
   "outputs": [],
   "source": [
    "from multitfa import analysis\n",
    "rxn_vars = [rxn.id for rxn in tfa_model.reactions if rxn.id not in tfa_model.Exclude_reactions] # Flux variable names\n",
    "dg_vars = [rxn.delG_forward.name for rxn in tfa_model.reactions if rxn.id not in tfa_model.Exclude_reactions] # Gibbs energy variable names\n",
    "\n",
    "ranges = analysis.variability(tfa_model, variable_list=rxn_vars + dg_vars) # TVA using MILP\n",
    "\n",
    "ranges_miqc = analysis.variability_legacy_cplex(tfa_model,variable_list=rxn_vars + dg_vars) # TVA using MIQCP with cplex\n",
    "\n",
    "ranges_miqc = analysis.variability_legacy_gurobi(tfa_model,variable_list=rxn_vars + dg_vars) # TVA using MIQCP with Gurobi"
   ]
  },
  {
   "cell_type": "markdown",
   "metadata": {},
   "source": [
    "Setting the parameter `fraction_of_optim=0.9` would give variable ranges at 90% optimality of specified variable optimality. The variable can be specified by Setting `biomass_rxn` parameter.  "
   ]
  },
  {
   "source": [
    "analysis.variability_legacy_cplex(tfa_model,variable_list=vars_analysis, biomass_rxn='BIOMASS_Ec_iJO1366_core_53p95M', fraction_of_optim=0.9)"
   ],
   "cell_type": "markdown",
   "metadata": {
    "tags": []
   }
  },
  {
   "cell_type": "markdown",
   "metadata": {},
   "source": [
    "Please note, runnig TVA on genome scale model is computationally expensive, especially using MIQC problems. We have observed that relaxing the `Gap` parameter helped achieving faster run times. "
   ]
  },
  {
   "cell_type": "markdown",
   "metadata": {},
   "source": [
    "# 4. Debugging\n",
    "\n",
    "It is often observed in genome scale models that adding thermodynamic constraints make the model infeasible. This might be due to variety of reasons, like ill-formatted  covariance between groups/components, lumping of reactions etc. It is always not easy to find the exact cause of the problem. But, if you are using Gurobi/Cplex, you can find the constraints that render the model infeasible. \n",
    "\n",
    "Please note that these methods give you random set of constraints that represent infeasibility. Also, a model can contain multiple infeasible sets. While modifying/removing these constraints, it is advisable to look for biological meaning.\n"
   ]
  },
  {
   "cell_type": "code",
   "execution_count": null,
   "metadata": {
    "tags": []
   },
   "outputs": [],
   "source": [
    "# Using gurobi\n",
    "t_model.solver.problem.computeIIS() # model.solver.problem represents the solver interface model\n",
    "for cons in t_model.solver.problem.getConstrs(): \n",
    "    if cons.IISConstr: \n",
    "        print(cons) \n",
    "\n",
    "# If using Cplex\n",
    "t_model.solver.problem.conflict.refine(t_model.solver.problem.conflict.all_constraints())\n",
    "\n"
   ]
  }
 ],
 "metadata": {
  "kernelspec": {
   "name": "python3",
   "display_name": "Python 3.7.0 64-bit ('test_tmfa': conda)",
   "metadata": {
    "interpreter": {
     "hash": "f0cf860edeee8c8486acf1489031b79af92a218294957a8872b2e07a161e2395"
    }
   }
  },
  "language_info": {
   "codemirror_mode": {
    "name": "ipython",
    "version": 3
   },
   "file_extension": ".py",
   "mimetype": "text/x-python",
   "name": "python",
   "nbconvert_exporter": "python",
   "pygments_lexer": "ipython3",
   "version": "3.7.0-final"
  }
 },
 "nbformat": 4,
 "nbformat_minor": 2
}
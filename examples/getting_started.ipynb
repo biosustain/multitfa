{
 "cells": [
  {
   "source": [
    "# 1. Getting Started\n",
    "\n",
    "multiTFA is a python package for accurate thermodynamic flux analysis. multiTFA is built on COBRApy to take advantage of COBRA model structure. For installation instructions please refer to **INSTALL.rst**.\n",
    "\n",
    "## 1.1. Building a multiTFA model\n",
    "\n",
    "multiTFA models can be readily constructed from COBRA model objects. To create a model, we require \n",
    "\n",
    "1. A COBRA model\n",
    "\n",
    "2. Metabolite KEGG/SEED identifiers - This is required to match and retrieve thermodyanamic information against our database. Metabolite identifiers can be added to the multiTFA model later. For simplicity, we use the same nomneclature as `equilibrator-api`. \n",
    "\n",
    "3. Compartment specific pH and ionic strength information. To calculate Gibbs energy related to transmembrane transport, information about membrane potential is also required in the form of pandas Dataframes. \n",
    "\n",
    "Additionally, for accurate thermodynamic calculations, intracellular metabolite concentrations can be provided. \n",
    "\n",
    "**NOTE**: All the input information should be in S.I units, e.g: ionic strength, metabolite concentration in Moles.\n",
    "\n",
    "To demonstrate the usage, we use *E. Coli* core model from `BIGG database`.\n"
   ],
   "cell_type": "markdown",
   "metadata": {}
  },
  {
   "cell_type": "code",
   "execution_count": 7,
   "metadata": {
    "tags": []
   },
   "outputs": [],
   "source": [
    "from cobra import io\n",
    "from tmfa.core import tmodel\n",
    "\n",
    "# Load COBRA model\n",
    "cobra_model = io.load_matlab_model('e_coli_core.mat')\n",
    "\n",
    "# compartment specific properties\n",
    "pH_I_dict = {\n",
    "    \"pH\": {\"c\": 7.5, \"e\": 7, \"p\": 7},\n",
    "    \"I\": {\"c\": 0.25, \"e\": 0, \"p\": 0},\n",
    "}\n",
    "\n",
    "# Membrane potentials\n",
    "del_psi_dict = { \n",
    "\"c\": {\"c\":0,\"e\": 0, \"p\": 150}, \n",
    "\"e\": {\"c\": 0,\"e\":0, \"p\": 0}, \n",
    "\"p\": {\"c\": -150, \"e\": 0, \"p\":0}, \n",
    "} \n",
    "\n",
    "import pandas as pd\n",
    "# Define membrane potential and compartment information in Dataframes\n",
    "del_psi = pd.DataFrame.from_dict(data=del_psi_dict)\n",
    "comp_info = pd.DataFrame.from_dict(data=pH_I_dict)\n",
    "\n",
    "# List of reaction ids that you would like to exclude from thermodynamic analysis, here we exclude demand reactions\n",
    "Excl = [\n",
    "    rxn.id\n",
    "    for rxn in cobra_model.reactions\n",
    "    if rxn.id.startswith(\"EX_\") or rxn.id.startswith(\"DM_\")\n",
    "] + [\"BIOMASS_Ecoli_core_w_GAM\", \"O2t\", \"H2Ot\"]\n",
    "\n",
    "\n",
    "# Now build the multiTFA model from COBRA model\n",
    "tfa_model = tmodel(\n",
    "    cobra_model, Exclude_list=Excl, compartment_info=comp_info, membrane_potential=del_psi\n",
    ")\n"
   ]
  },
  {
   "source": [
    "In order to access the thermodynamic information from equilibrator api, we need to add a external database identifier against all the metabolites in tfa model. This can be done by populating the 'Kegg_id' property of the metabolites. If you do not know the identifier for some metabolites, it is okay, you can simply add `NA` against it. For simplicity, we use the notation similar to equilibrator api. For the example below in the *E. coli* core model, we use bigg identifiers. You can follow equilibrator api notation for other database identifiers, for example, if you are using `KEGG` identifier, simply use `kegg:kegg identifier`."
   ],
   "cell_type": "markdown",
   "metadata": {}
  },
  {
   "cell_type": "code",
   "execution_count": 14,
   "metadata": {},
   "outputs": [],
   "source": [
    "for met in tfa_model.metabolites: \n",
    "    kegg_id = 'bigg.metabolite:'+met.id[:-2] \n",
    "    met.Kegg_id = kegg_id\n",
    "\n",
    "tfa_model.update()"
   ]
  },
  {
   "source": [
    "## 1.2 Metabolites\n",
    "\n",
    "Reactions and metabolites in multiTFA model can be accessed similar to a COBRA model. For demonstration, we will consider cytosolic `ATP` as our metabolite with `atp_c` identifier in tfa_model. We will access `ATP` and print it's standard Gibbs energy of formation and Also, change its intracellular concentration lower and upper bounds to '2e-3' and '5e-2' M respectively from it's default bounds. These changes will reflect in solver variables and constraints."
   ],
   "cell_type": "markdown",
   "metadata": {}
  },
  {
   "cell_type": "code",
   "execution_count": 15,
   "metadata": {
    "tags": []
   },
   "outputs": [
    {
     "output_type": "stream",
     "name": "stdout",
     "text": [
      "Standard Gibbs energy of formation of ATP is -2259.1882733696866 KJ/mol\ninitial concentrations\natp_c\t0.002\t0.02\nConcentrations after modifying\natp_c\t0.002\t0.05\n"
     ]
    }
   ],
   "source": [
    "atp = tfa_model.metabolites.get_by_id('atp_c')\n",
    "print(\"Standard Gibbs energy of formation of ATP is {} KJ/mol\".format(atp.delG_f))\n",
    "print(\"initial concentrations\")\n",
    "print('{}\\t{}\\t{}'.format(atp.id, atp.concentration_min, atp.concentration_max))\n",
    "atp.concentration_min = 2e-3\n",
    "atp.concentration_max = 5e-2\n",
    "print(\"Concentrations after modifying\")\n",
    "print('{}\\t{}\\t{}'.format(atp.id, atp.concentration_min, atp.concentration_max))"
   ]
  },
  {
   "source": [
    "You can always change the Gibbs energy of formation value of a metabolite by resetting the `delG_f` property of the metabolite. Also, you can access additional information like, major pseudoisomer at given compartment conditions, equilibrator accession of the metabolite."
   ],
   "cell_type": "markdown",
   "metadata": {}
  },
  {
   "source": [
    "## 1.3 Reactions\n",
    "\n",
    "Reactions in multiTFA model are of type cobra.DictList. Similar to COBRA model, reactions can be accessed/retrieved by its index or by it's name and properties/attributes can be accessed. Let us consider ATP synthase raction in our model by 'ATPS4rpp' and access it's attributes.\n"
   ],
   "cell_type": "markdown",
   "metadata": {}
  },
  {
   "cell_type": "code",
   "execution_count": 18,
   "metadata": {
    "tags": []
   },
   "outputs": [
    {
     "output_type": "stream",
     "name": "stdout",
     "text": [
      "adp_c + 4.0 h_e + pi_c <=> atp_c + h2o_c + 3.0 h_c\n"
     ]
    }
   ],
   "source": [
    "atps = tfa_model.reactions.get_by_id('ATPS4r')\n",
    "print(atps.reaction)"
   ]
  },
  {
   "source": [
    "We can access the Gibbs energy of transport and transformed Gibbs energy of the reaction"
   ],
   "cell_type": "markdown",
   "metadata": {}
  },
  {
   "cell_type": "code",
   "execution_count": 20,
   "metadata": {
    "tags": []
   },
   "outputs": [
    {
     "output_type": "stream",
     "name": "stdout",
     "text": [
      "Gibbs energy of transport is -4.605170185988092 KJ/mol\nTransform Gibbs energy of is 32.396004094027376 KJ/mol\n"
     ]
    }
   ],
   "source": [
    "print(\"Gibbs energy of transport is {} KJ/mol\".format(atps.delG_transport))\n",
    "print(\"Transform Gibbs energy of is {} KJ/mol\".format(atps.delG_prime))"
   ]
  },
  {
   "source": [
    "You can always reset the transport and transformed Gibbs energy of reactions. You can also access the stoichiometric matrix of the reaction, all the thermodynamic constraints associated with the reaction."
   ],
   "cell_type": "markdown",
   "metadata": {}
  }
 ],
 "metadata": {
  "language_info": {
   "codemirror_mode": {
    "name": "ipython",
    "version": 3
   },
   "file_extension": ".py",
   "mimetype": "text/x-python",
   "name": "python",
   "nbconvert_exporter": "python",
   "pygments_lexer": "ipython3",
   "version": "3.6.9-final"
  },
  "orig_nbformat": 2,
  "kernelspec": {
   "name": "python3",
   "display_name": "Python 3.6.9 64-bit ('multitfa')",
   "metadata": {
    "interpreter": {
     "hash": "a30872bb3c42c954c210cf9f81d0a00be883c029b71371a7209b204b35cf59cc"
    }
   }
  }
 },
 "nbformat": 4,
 "nbformat_minor": 2
}
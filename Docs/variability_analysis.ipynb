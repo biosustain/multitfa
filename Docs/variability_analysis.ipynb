{
 "cells": [
  {
   "source": [
    "# 3. Thermodynamic variability analysis (TVA)\n",
    "\n",
    "There exists multiple flux states that define the same optimum. TVA predicts the ranges of variables such as metabolic fluxes, Gibbs energy of reactions and metabolite concentrations.\n",
    "\n",
    "As described previously, you can solve the TVA problem on either the MILP or MIQCP. Although, MILP is faster compared to solving MIQCP, MIQCP is thermodynamically consistent as they drawn from multivariate distribution. \n",
    "\n",
    "There are three different functions for running TVA in multiTFA. One for the MILP, the remaining two for MIQCP, depending on the solver you use (either Gurobi or Cplex).\n",
    "\n",
    "By default, TVA is performed on all the variables in a model unless `variable_list` is specified. Please note, `variable_list` is a `list` of `str`. For example reactons id's or names of Gibbs energy variables etc.\n"
   ],
   "cell_type": "markdown",
   "metadata": {}
  },
  {
   "cell_type": "code",
   "execution_count": null,
   "metadata": {
    "tags": []
   },
   "outputs": [],
   "source": [
    "from multiTFA import analysis\n",
    "rxn_vars = [rxn.id for rxn in t_model.reactions if rxn.id not in t_model.Exclude_reactions] # Flux variable names\n",
    "dg_vars = [rxn.delG_forward.name for rxn in t_model.reactions if rxn.id not in t_model.Exclude_reactions] # Gibbs energy variable names\n",
    "\n",
    "ranges = analysis.variability(t_model, variable_list=rxn_vars + dg_vars) # TVA using MILP\n",
    "\n",
    "ranges_miqc = analysis.variability_legacy_cplex(t_model,variable_list=vars_analysis) # TVA using MIQCP with cplex\n",
    "\n",
    "ranges_miqc = analysis.variability_legacy_gurobi(t_model,variable_list=vars_analysis) # TVA using MIQCP with Gurobi"
   ]
  },
  {
   "source": [
    "Setting the parameter `fraction_of_optim=0.9` would give variable ranges at 90% optimality of specified variable optimality. The variable can be specified by Setting `biomass_rxn` parameter.  "
   ],
   "cell_type": "markdown",
   "metadata": {}
  },
  {
   "cell_type": "code",
   "execution_count": null,
   "metadata": {
    "tags": []
   },
   "outputs": [],
   "source": [
    "analysis.variability_legacy_cplex(t_model,variable_list=vars_analysis, biomass_rxn='BIOMASS_Ec_iJO1366_core_53p95M', fraction_of_optim=0.9)"
   ]
  },
  {
   "source": [
    "Please note, runnig TVA on genome scale model is computationally expensive, especially using MIQC problems. We have observed that relaxing the `Gap` parameter helped achieving faster run times. "
   ],
   "cell_type": "markdown",
   "metadata": {}
  }
 ],
 "metadata": {
  "language_info": {
   "codemirror_mode": {
    "name": "ipython",
    "version": 3
   },
   "file_extension": ".py",
   "mimetype": "text/x-python",
   "name": "python",
   "nbconvert_exporter": "python",
   "pygments_lexer": "ipython3",
   "version": "3.6.7-final"
  },
  "orig_nbformat": 2,
  "kernelspec": {
   "name": "python_defaultSpec_1593999997917",
   "display_name": "Python 3.6.7 64-bit ('tmfa': virtualenv)"
  }
 },
 "nbformat": 4,
 "nbformat_minor": 2
}
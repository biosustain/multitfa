{
 "cells": [
  {
   "cell_type": "markdown",
   "metadata": {},
   "source": [
    "# 1. Getting Started\n",
    "\n",
    "multiTFA is a python package for accurate thermodynamic flux analysis. multiTFA is built on COBRApy to take advantage of COBRA model structure. For installation instructions please refer to INSTALL.rst.\n",
    "\n",
    "## 1.1. Building a multiTFA model\n",
    "\n",
    "multiTFA models can be readily constructed from COBRA model objects. To create a model, we require \n",
    "\n",
    "1. A COBRA model\n",
    "\n",
    "2. Metabolite KEGG/SEED identifiers - This is required to match and retrieve thermodyanamic information against our database\n",
    "\n",
    "3. Compartment specific pH and ionic strength information. To calculate Gibbs energy related to transmembrane transport, information about membrane potential is also required.\n",
    "\n",
    "Additionally, for accurate thermodynamic calculations, intracellular metabolite concentrations can be provided. \n",
    "\n",
    "**NOTE**: All the input information should be in S.I units, e.g: ionic strength, metabolite concentration in Moles.\n",
    "\n",
    "To demonstrate the usage, we use reduced *E. Coli* model borrowed from pyTFA repository.\n"
   ]
  },
  {
   "cell_type": "code",
   "execution_count": 6,
   "metadata": {
    "tags": []
   },
   "outputs": [
    {
     "output_type": "stream",
     "name": "stdout",
     "text": "Read LP format model from file /tmp/tmpl2z8bpgs.lp\nReading time = 0.01 seconds\n: 304 rows, 1198 columns, 12812 nonzeros\nmodel_red\n"
    }
   ],
   "source": [
    "from cobra import io\n",
    "from multiTFA.core.tmodel import tmodel\n",
    "\n",
    "# Load COBRA model\n",
    "cobra_model = io.load_matlab_model('multiTFA/model/small_ecoli.mat')\n",
    "\n",
    "# Define dictionary of metabolite identifiers\n",
    "Kegg_map = {}\n",
    "with open(\"multiTFA/model/ecoli_kegg_map.txt\", \"r\") as f:\n",
    "    for line in f:\n",
    "        line = line.strip()\n",
    "        line = line.split(\"\\t\")\n",
    "        Kegg_map[line[0]] = line[1]\n",
    "\n",
    "# compartment specific properties\n",
    "pH_I_dict = {\n",
    "    \"pH\": {\"c\": 7.5, \"e\": 7, \"p\": 7},\n",
    "    \"I\": {\"c\": 0.25, \"e\": 0, \"p\": 0},\n",
    "}\n",
    "\n",
    "# Membrane potentials\n",
    "del_psi_dict = {\n",
    "    \"c\": {\"e\": 0, \"p\": 150},\n",
    "    \"e\": {\"c\": 0, \"p\": 0},\n",
    "    \"p\": {\"c\": -150, \"e\": 0},\n",
    "}\n",
    "\n",
    "# List of reaction ids that you would like to exclude from thermodynamic analysis, here we exclude demand reactions\n",
    "Excl = [i.id for i in cobra_model.reactions if \"DM_\" in i.id]\n",
    "\n",
    "# Optionally, define metabolite concentration bounds\n",
    "conc_dict = {\n",
    "    \"min\": {\"atp_c\": 1e-3, \"adp_c\": 4e-4, \"amp_c\": 2e-4},\n",
    "    \"max\": {\"atp_c\": 1e-2, \"adp_c\": 7e-4, \"amp_c\": 3e-4},\n",
    "}\n",
    "\n",
    "# Now build the multiTFA model from COBRA model\n",
    "t_model = tmodel(\n",
    "    model=cobra_model,\n",
    "    Kegg_map=Kegg_map,\n",
    "    pH_I_dict=pH_I_dict,\n",
    "    del_psi_dict=del_psi_dict,\n",
    "    Exclude_list=Excl,\n",
    "    concentration_dict=conc_dict,\n",
    ")\n",
    "\n",
    "print(t_model)"
   ]
  },
  {
   "cell_type": "markdown",
   "metadata": {},
   "source": [
    "## 1.2 Metabolites\n",
    "\n",
    "Reactions and metabolites in multiTFA model can be accessed similar to a COBRA model. For demonstration, we will consider cytosolic 'ATP' as our metabolite with 'atp_c' identifier in our model. Let us access 'ATP' and print it's standard Gibbs energy of formation. Also, change its intracellular concentration lower and upper bounds to '2e-3' and '5e-2' M respectively. These changes will reflect in solver variables and constraints."
   ]
  },
  {
   "cell_type": "code",
   "execution_count": 9,
   "metadata": {
    "tags": []
   },
   "outputs": [
    {
     "output_type": "stream",
     "name": "stdout",
     "text": "Standard Gibbs energy of formation of ATP is -2814.238797234083 KJ/mol\ninitial concentrations\natp_c\t0.002\t0.05\nConcentrations after modifying\natp_c\t0.002\t0.05\n"
    }
   ],
   "source": [
    "atp = t_model.metabolites.get_by_id('atp_c')\n",
    "print(\"Standard Gibbs energy of formation of ATP is {} KJ/mol\".format(atp.delG_f))\n",
    "print(\"initial concentrations\")\n",
    "print('{}\\t{}\\t{}'.format(atp.id, atp.concentration_min, atp.concentration_max))\n",
    "atp.concentration_min = 2e-3\n",
    "atp.concentration_max = 5e-2\n",
    "print(\"Concentrations after modifying\")\n",
    "print('{}\\t{}\\t{}'.format(atp.id, atp.concentration_min, atp.concentration_max))"
   ]
  },
  {
   "cell_type": "markdown",
   "metadata": {},
   "source": [
    "## 1.3 Reactions\n",
    "\n",
    "Reactions in multiTFA model are of type cobra.DictList. Similar to COBRA model, reactions can be accessed/retrieved by its index or by it's name. Let us consider ATP synthase raction in our model by 'ATPS4rpp' and access it's attributes.\n"
   ]
  },
  {
   "cell_type": "code",
   "execution_count": 10,
   "metadata": {
    "tags": []
   },
   "outputs": [
    {
     "output_type": "stream",
     "name": "stdout",
     "text": "adp_c + 4.0 h_p + pi_c <=> atp_c + h2o_c + 3.0 h_c\n"
    }
   ],
   "source": [
    "atps = t_model.reactions.get_by_id('ATPS4rpp')\n",
    "print(atps.reaction)"
   ]
  },
  {
   "cell_type": "markdown",
   "metadata": {},
   "source": [
    "We can check if the reaction is involved in any transmembrane transport"
   ]
  },
  {
   "cell_type": "code",
   "execution_count": 11,
   "metadata": {
    "tags": []
   },
   "outputs": [
    {
     "output_type": "stream",
     "name": "stdout",
     "text": "True\n"
    }
   ],
   "source": [
    "print(atps.isTrans)"
   ]
  },
  {
   "cell_type": "markdown",
   "metadata": {},
   "source": [
    "Also, we can check which metabolites are involved in transport"
   ]
  },
  {
   "cell_type": "code",
   "execution_count": 12,
   "metadata": {
    "tags": []
   },
   "outputs": [
    {
     "output_type": "stream",
     "name": "stdout",
     "text": "{<Thermo_met h_p at 0x7fade6813cf8>: <Thermo_met h_c at 0x7fade6487f98>}\n"
    }
   ],
   "source": [
    "print(atps.find_transportMets())"
   ]
  },
  {
   "cell_type": "markdown",
   "metadata": {},
   "source": [
    "Finally, we can access the Gibbs energy of transport or transformed Gibbs energy of the reaction"
   ]
  },
  {
   "cell_type": "code",
   "execution_count": 14,
   "metadata": {
    "tags": []
   },
   "outputs": [
    {
     "output_type": "stream",
     "name": "stdout",
     "text": "Gibbs energy of transport is -57.891 KJ/mol\nTransform Gibbs energy of is -29.838045425074974 KJ/mol\n"
    }
   ],
   "source": [
    "print(\"Gibbs energy of transport is {} KJ/mol\".format(atps.transport_delG))\n",
    "print(\"Transform Gibbs energy of is {} KJ/mol\".format(atps.delG_transform))"
   ]
  },
  {
   "cell_type": "markdown",
   "metadata": {},
   "source": [
    "Note: Transport Gibbs energy is included in transform Gibbs energy of a reaction"
   ]
  }
 ],
 "metadata": {
  "language_info": {
   "codemirror_mode": {
    "name": "ipython",
    "version": 3
   },
   "file_extension": ".py",
   "mimetype": "text/x-python",
   "name": "python",
   "nbconvert_exporter": "python",
   "pygments_lexer": "ipython3",
   "version": "3.6.7-final"
  },
  "orig_nbformat": 2,
  "kernelspec": {
   "name": "python_defaultSpec_1593999997917",
   "display_name": "Python 3.6.7 64-bit ('tmfa': virtualenv)"
  }
 },
 "nbformat": 4,
 "nbformat_minor": 2
}
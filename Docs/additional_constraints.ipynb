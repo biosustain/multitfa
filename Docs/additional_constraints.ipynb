{
 "cells": [
  {
   "source": [
    "# 4. Debugging\n",
    "\n",
    "It is often observed in genome scale models that adding thermodynamic constraints make the model infeasible. This might be due to variety of reasons, like ill-formatted  covariance between groups/components, lumping of reactions etc. It is always not easy to find the exact cause of the problem. But, if you are using Gurobi/Cplex, you can find the constraints that render the model infeasible. \n",
    "\n",
    "Please note that these methods give you random set of constraints that represent infeasibility. Also, a model can contain multiple infeasible sets. While modifying/removing these constraints, it is advisable to look for biological meaning.\n"
   ],
   "cell_type": "markdown",
   "metadata": {}
  },
  {
   "cell_type": "code",
   "execution_count": null,
   "metadata": {
    "tags": []
   },
   "outputs": [],
   "source": [
    "# Using gurobi\n",
    "t_model.solver.problem.computeIIS() # model.solver.problem represents the solver interface model\n",
    "for cons in t_model.solver.problem.getConstrs(): \n",
    "    if cons.IISConstr: \n",
    "        print(cons) \n",
    "\n",
    "# If using Cplex\n",
    "t_model.solver.problem.conflict.refine(t_model.solver.problem.conflict.all_constraints())\n",
    "\n"
   ]
  }
 ],
 "metadata": {
  "language_info": {
   "codemirror_mode": {
    "name": "ipython",
    "version": 3
   },
   "file_extension": ".py",
   "mimetype": "text/x-python",
   "name": "python",
   "nbconvert_exporter": "python",
   "pygments_lexer": "ipython3",
   "version": "3.6.9-final"
  },
  "orig_nbformat": 2,
  "kernelspec": {
   "name": "Python 3.6.9 64-bit ('tmfa')",
   "display_name": "Python 3.6.9 64-bit ('tmfa')",
   "metadata": {
    "interpreter": {
     "hash": "fbd626ec19ed0f10238fa9be575a55d2e6d6e44c59302bb2ba42c80fb8840640"
    }
   }
  }
 },
 "nbformat": 4,
 "nbformat_minor": 2
}
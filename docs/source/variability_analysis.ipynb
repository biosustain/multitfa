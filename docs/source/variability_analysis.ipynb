{
 "cells": [
  {
   "source": [
    "# 3. Thermodynamic variability analysis (TVA)\n",
    "\n",
    "There exists multiple flux states that define the same optimum. TVA predicts the ranges of variables such as metabolic fluxes, Gibbs energy of reactions and metabolite concentrations by taking into account of thermodynamic uncertainities using multivariate approach.\n",
    "\n",
    "As described previously, you can solve the TVA problem on either the MILP or MIQCP. Although, MILP is faster compared to solving MIQCP, MIQCP is thermodynamically consistent as they drawn from multivariate distribution. \n",
    "\n",
    "There are three different functions for running TVA in multiTFA. One for the MILP, the remaining two for MIQCP, depending on the solver you use (either Gurobi or Cplex).\n",
    "\n",
    "By default, TVA is performed on all the variables in a model unless `variable_list` parameter is specified. It is a `list` of variable names you want to perform TVA on. For example reactons id's or names of Gibbs energy variables etc.\n",
    "\n",
    "The example below demonstrates how to perform TVA on *E. coli* core model with constraints described in previous sections. We will use `cplex` for our calculations. In our observations `Cplex` ourperforms `Gurobi`. \n"
   ],
   "cell_type": "markdown",
   "metadata": {}
  },
  {
   "cell_type": "code",
   "execution_count": 1,
   "metadata": {
    "tags": []
   },
   "outputs": [
    {
     "output_type": "stream",
     "name": "stdout",
     "text": [
      "Downloading package metadata...\n",
      "Fragments already downloaded\n",
      "Downloading package metadata...\n",
      "Fragments already downloaded\n",
      "Downloading package metadata...\n",
      "Fragments already downloaded\n",
      "Using license file /home/vishnu/gurobi.lic\n",
      "Academic license - for non-commercial use only\n",
      "Read LP format model from file /tmp/tmp4kxnn3mw.lp\n",
      "Reading time = 0.00 seconds\n",
      ": 72 rows, 190 columns, 720 nonzeros\n"
     ]
    }
   ],
   "source": [
    "from multitfa.test_model import load_test_data\n",
    "tfa_model = load_test_data() # Load the test model\n",
    "\n",
    "from multitfa import analysis\n",
    "dg_vars = [rxn.delG_forward.name for rxn in tfa_model.reactions if rxn.id not in tfa_model.Exclude_reactions] # Gibbs energy variable names\n"
   ]
  },
  {
   "source": [
    "Now let us perform TVA on `tfa_model` using univariate approch and calculate ranges on reaction flux variables"
   ],
   "cell_type": "markdown",
   "metadata": {}
  },
  {
   "cell_type": "code",
   "execution_count": 2,
   "metadata": {},
   "outputs": [
    {
     "output_type": "stream",
     "name": "stdout",
     "text": [
      "               minimum    maximum\ndG_PFK      -65.527361  26.205939\ndG_PFL      -72.197674  33.074152\ndG_PGI      -19.085713  24.931203\ndG_PGK        0.000000  59.219274\ndG_PGL      -40.671665  28.293843\n...                ...        ...\ndG_ME2      -70.983610  57.688660\ndG_NADH16  -194.698524 -61.742679\ndG_NADTRHD  -58.319625  57.785742\ndG_NH4t     -13.742207  32.066015\ndG_PDH     -116.749219  48.618586\n\n[72 rows x 2 columns]\n"
     ]
    }
   ],
   "source": [
    "tfa_model.solver = 'cplex'\n",
    "ranges_box = analysis.variability(tfa_model, variable_list = dg_vars) # TVA using MILP\n",
    "print(ranges_box)"
   ]
  },
  {
   "source": [
    " `ranges_box` is a `pandas DataFrame` which can be readily exported to a csv. "
   ],
   "cell_type": "markdown",
   "metadata": {}
  },
  {
   "cell_type": "code",
   "execution_count": 3,
   "metadata": {},
   "outputs": [],
   "source": [
    "ranges_box.to_csv('ranges.csv')"
   ]
  },
  {
   "source": [
    "Now lets solve the TVA with multivariate approach using MIQCP. There are two functions one when using `Gurobi` and another for `Cplex`."
   ],
   "cell_type": "markdown",
   "metadata": {}
  },
  {
   "cell_type": "code",
   "execution_count": 4,
   "metadata": {},
   "outputs": [
    {
     "output_type": "stream",
     "name": "stdout",
     "text": [
      "\n",
      "Selected objective sense:  MINIMIZE\n",
      "Selected objective  name:  c5b998a4-5b9b-11eb-9753-509a4c43d0a7\n",
      "Selected RHS        name:  rhs\n",
      "Selected bound      name:  bnd\n",
      "\n",
      "Selected objective sense:  MINIMIZE\n",
      "Selected objective  name:  c5b998a4-5b9b-11eb-9753-509a4c43d0a7\n",
      "Selected RHS        name:  rhs\n",
      "Selected bound      name:  bnd\n",
      "                 minimum    maximum\n",
      "dG_PFK     -6.349569e+01  24.174265\n",
      "dG_PFL     -7.084883e+01  31.725309\n",
      "dG_PGI     -1.940986e+01  25.255346\n",
      "dG_PGK      1.363638e-10  56.021188\n",
      "dG_PGL     -4.961171e+01  37.233887\n",
      "...                  ...        ...\n",
      "dG_ME2     -8.241713e+01  69.129418\n",
      "dG_NADH16  -2.107758e+02 -33.736290\n",
      "dG_NADTRHD -4.100270e+01  23.163226\n",
      "dG_NH4t    -9.670293e+00  27.994102\n",
      "dG_PDH     -1.200410e+02  31.809464\n",
      "\n",
      "[72 rows x 2 columns]\n"
     ]
    }
   ],
   "source": [
    "ranges_MIQC_cplex = analysis.variability_legacy_cplex(tfa_model,variable_list = dg_vars) # TVA using MIQCP with cplex\n",
    "print(ranges_MIQC_cplex)"
   ]
  },
  {
   "source": [
    "Similarly, if you need to use `Gurobi`, you should use `variability_legacy_gurobi` function. Optionally, if you wish to warm start the optimization, you should specify `warm_start` parameter."
   ],
   "cell_type": "markdown",
   "metadata": {}
  },
  {
   "source": [
    "Please note, runnig TVA on genome scale model is computationally expensive, especially using MIQC problems. We have observed that relaxing the `Gap` parameter helped achieving faster run times. "
   ],
   "cell_type": "markdown",
   "metadata": {}
  },
  {
   "source": [
    "## 3.1 Alternative way to solve MIQC\n",
    "\n",
    "When `Gurobi` or `Cplex` is not available, and if you wanted to run MIQC problem, we developed a sampling based approach to solve the MIQCP. We sample the uncertainity variables on the surface of the ellipsoid and solve the subsequent MILP problem. This can be solved using MILP solvers. The exit criterion of the sampler can be chosen as either\n",
    "\n",
    "(1) the number of samples since last improvement or \n",
    "(2) a fixed number of samples followed by use of a generalized extreme value distribution to infer the maximum value."
   ],
   "cell_type": "markdown",
   "metadata": {}
  },
  {
   "cell_type": "code",
   "execution_count": 5,
   "metadata": {},
   "outputs": [],
   "source": [
    "gev_ranges, gev_samples = analysis.gev_sampling(tfa_model, variable_list=dg_vars, cutoff = 100)"
   ]
  },
  {
   "cell_type": "code",
   "execution_count": 6,
   "metadata": {},
   "outputs": [
    {
     "output_type": "stream",
     "name": "stdout",
     "text": [
      "            minimum        maximum     minimum    maximum     minimum  \\\ndG_PFK          0.0  6.932509e-310  -59.208994  16.119795  -57.244604   \ndG_PFL          0.0  6.932508e-310  -55.968738  19.360052  -55.302620   \ndG_PGI          0.0  6.932508e-310  -15.750196  21.914199  -15.050496   \ndG_PGK          0.0  6.932508e-310    0.000000  49.796896    0.000000   \ndG_PGL          0.0  6.932508e-310  -34.714650  21.781942  -35.021775   \n...             ...            ...         ...        ...         ...   \ndG_ME2          0.0  6.932514e-310  -57.435739  36.725248  -50.295732   \ndG_NADH16       0.0  6.932507e-310 -172.122538 -96.793749 -158.761021   \ndG_NADTRHD      0.0  6.932507e-310  -38.011098  20.720051  -37.953588   \ndG_NH4t         0.0  6.932514e-310   -9.670293  27.994102   -9.670293   \ndG_PDH          0.0  6.932514e-310  -91.000549  21.992636  -84.902043   \n\n              maximum     minimum    maximum     minimum    maximum  ...  \\\ndG_PFK      18.084186  -57.289776  18.039014  -59.023921  16.304868  ...   \ndG_PFL      20.026170  -58.521947  16.806842  -55.829016  19.499773  ...   \ndG_PGI      22.613899  -15.911709  21.752686  -15.632593  22.031802  ...   \ndG_PGK      51.387120    0.000000  50.779658    0.000000  51.260453  ...   \ndG_PGL      21.474818  -37.457197  19.039395  -33.266706  23.229886  ...   \n...               ...         ...        ...         ...        ...  ...   \ndG_ME2      43.865255  -56.166123  37.994864  -55.279108  38.881879  ...   \ndG_NADH16  -83.432232 -159.795155 -84.466365 -154.318012 -78.989222  ...   \ndG_NADTRHD  20.532634  -37.894243  19.056740  -38.073166  19.268960  ...   \ndG_NH4t     27.994102   -9.670293  27.994102   -9.670293  27.994102  ...   \ndG_PDH      28.091141  -94.315901  18.677283  -89.609918  23.383266  ...   \n\n               minimum    maximum     minimum    maximum     minimum  \\\ndG_PFK      -58.308193  17.020596  -59.279565  16.049224  -58.057350   \ndG_PFL      -57.451303  17.877486  -57.102613  18.226177  -54.742748   \ndG_PGI      -15.815664  21.848731  -16.447347  21.217048  -15.731125   \ndG_PGK        0.000000  51.167994    0.000000  50.760330    0.000000   \ndG_PGL      -36.941260  19.555332  -32.565948  23.930644  -32.900433   \n...                ...        ...         ...        ...         ...   \ndG_ME2      -52.502211  41.658776  -51.544941  42.616046  -54.048658   \ndG_NADH16  -161.440135 -86.121022 -167.654461 -92.325671 -156.504889   \ndG_NADTRHD  -37.654718  19.417149  -38.029758  18.899677  -37.917227   \ndG_NH4t      -9.670293  27.994102   -9.670293  27.994102   -9.670293   \ndG_PDH      -87.844419  25.139089  -87.384168  25.609016  -88.643144   \n\n              maximum     minimum    maximum     minimum    maximum  \ndG_PFK      17.271440  -56.775852  18.552937  -55.848145  19.480644  \ndG_PFL      20.586041  -58.556047  16.772743  -54.830687  20.498102  \ndG_PGI      21.933269  -16.064642  21.599752  -16.414937  21.249457  \ndG_PGK      50.988799    0.000000  51.056874    0.000000  51.927439  \ndG_PGL      23.596159  -35.823200  20.673392  -32.175165  24.321427  \n...               ...         ...        ...         ...        ...  \ndG_ME2      40.112329  -54.580811  39.580175  -53.125579  41.035408  \ndG_NADH16  -93.629745 -168.324834 -92.996044 -152.843257 -90.179567  \ndG_NADTRHD  20.579590  -38.539240  18.402624  -37.915077  19.922594  \ndG_NH4t     27.994102   -9.670293  27.994102   -9.670293  27.994102  \ndG_PDH      24.350040  -92.377200  20.615984  -88.844507  24.148677  \n\n[72 rows x 202 columns]\n"
     ]
    }
   ],
   "source": [
    "print(gev_samples)"
   ]
  },
  {
   "source": [
    "`gev_samples` is the alternate set of Gibbs energy of reactions and `gev_ranges` is the max-min ranges of Gibbs energy of reactions. By specifying `cutoff` parameter, we specify how many samples we use to train the extreme value distribution (default, 1000). The more samples the better. "
   ],
   "cell_type": "markdown",
   "metadata": {}
  },
  {
   "source": [
    "Alternatively, you could choose to use the other exit crieteria where if we don't see improvement since a defined number of samples."
   ],
   "cell_type": "markdown",
   "metadata": {}
  },
  {
   "cell_type": "code",
   "execution_count": 7,
   "metadata": {},
   "outputs": [],
   "source": [
    "cutoff_ranges, cutoff_samples, num_samples = analysis.cutoff_sampling(tfa_model, cutoff=10, variable_list=dg_vars)"
   ]
  },
  {
   "source": [
    "Here, `cutoff_ranges`, `cutoff_samples`, `num_samples` represents max-min Gibbs energy ranges of reactions, alternate Gibbs energy of reactions and num of samples to achieve the exit."
   ],
   "cell_type": "markdown",
   "metadata": {}
  },
  {
   "cell_type": "code",
   "execution_count": 8,
   "metadata": {},
   "outputs": [
    {
     "output_type": "stream",
     "name": "stdout",
     "text": [
      "            minimum    maximum     minimum    maximum     minimum    maximum  \\\ndG_PFK          0.0  20.035991  -57.252994  18.075796  -57.636151  17.692639   \ndG_PFL          0.0  21.728102  -59.638944  15.689845  -56.113491  19.215298   \ndG_PGI          0.0  22.695646  -15.477020  22.187375  -16.170388  21.494007   \ndG_PGK          0.0  52.086147    0.000000  51.281604    0.000000  50.618981   \ndG_PGL          0.0  29.168896  -33.188921  23.307671  -36.148757  20.347835   \n...             ...        ...         ...        ...         ...        ...   \ndG_ME2          0.0  49.223198  -54.162524  39.998463  -56.020423  38.140564   \ndG_NADH16       0.0 -55.540377 -164.345338 -89.016549 -161.914787 -86.585998   \ndG_NADTRHD      0.0  21.943241  -38.643810  19.470017  -38.697513  17.149985   \ndG_NH4t         0.0  27.993973   -9.670293  27.994102   -9.670293  27.994102   \ndG_PDH          0.0  31.727693  -93.739895   7.605108  -94.594519   6.201065   \n\n               minimum    maximum     minimum    maximum  ...     minimum  \\\ndG_PFK      -57.475307  17.853483  -56.865402  18.463387  ...  -58.346256   \ndG_PFL      -56.513771  18.815019  -58.130290  17.198500  ...  -55.404140   \ndG_PGI      -16.075053  21.589342  -16.213705  21.450690  ...  -16.066617   \ndG_PGK        0.000000  51.028952    0.000000  51.116906  ...    0.000000   \ndG_PGL      -38.497265  17.999327  -32.204357  24.292235  ...  -32.161525   \n...                ...        ...         ...        ...  ...         ...   \ndG_ME2      -52.424780  41.736207  -55.803405  38.357582  ...  -52.869734   \ndG_NADH16  -160.183308 -85.012301 -142.588610 -79.044241  ... -159.705251   \ndG_NADTRHD  -37.506612  19.766703  -38.534803  19.204028  ...  -37.808244   \ndG_NH4t      -9.670293  27.994102   -9.670293  27.994102  ...   -9.670293   \ndG_PDH      -87.691628  12.440726  -93.566563   7.642200  ...  -86.427771   \n\n              maximum     minimum    maximum     minimum    maximum  \\\ndG_PFK      16.982534  -57.335672  17.993118  -56.787436  18.541354   \ndG_PFL      19.924650  -59.250098  16.078691  -57.818430  17.510359   \ndG_PGI      21.597778  -15.387135  22.277260  -16.194117  21.470278   \ndG_PGK      51.464339    0.000000  50.810693    0.000000  51.409595   \ndG_PGL      24.335067  -36.105439  20.391153  -34.110745  22.385847   \n...               ...         ...        ...         ...        ...   \ndG_ME2      41.291253  -51.112385  43.048602  -56.690461  37.470526   \ndG_NADH16  -96.006348 -148.458669 -73.129880 -158.329942 -83.001153   \ndG_NADTRHD  19.593213  -38.132952  19.868398  -38.237796  19.688942   \ndG_NH4t     27.994102   -9.670293  27.994102   -9.670293  27.994102   \ndG_PDH      25.286175  -89.712458  18.500108  -94.323579  18.669605   \n\n               minimum    maximum     minimum     maximum  \ndG_PFK      -57.136197  18.192593  -58.194768   17.134021  \ndG_PFL      -59.497096  15.831694  -56.951996   18.376793  \ndG_PGI      -15.678622  21.985773  -16.040637   21.623758  \ndG_PGK        0.000000  50.811795    0.000000   52.158980  \ndG_PGL      -35.851534  20.645058  -33.803580   22.693012  \n...                ...        ...         ...         ...  \ndG_ME2      -53.635078  40.525909  -51.756254   42.404733  \ndG_NADH16  -172.683712 -97.354922 -169.061897 -106.667552  \ndG_NADTRHD  -38.234418  20.267035  -37.139192   18.695941  \ndG_NH4t      -9.670293  27.994102   -9.670293   27.994102  \ndG_PDH      -90.149672  20.830388  -86.590091   21.147361  \n\n[72 rows x 32 columns]\n"
     ]
    }
   ],
   "source": [
    "print(cutoff_samples)"
   ]
  },
  {
   "source": [
    "## 3.2 Network embeded thermodynamics (NET)\n",
    "\n",
    "By using the TVA apparoches demonstrated above, one can perform NET type of analysis. For example, we can fix the directionalities of all the reactions and sample for the metabolite concentrations. \n",
    "\n",
    "Reaction directionalities can be fixed by adjusting the lower or upper bounds of the reactions."
   ],
   "cell_type": "markdown",
   "metadata": {}
  },
  {
   "cell_type": "code",
   "execution_count": 9,
   "metadata": {},
   "outputs": [
    {
     "output_type": "stream",
     "name": "stdout",
     "text": [
      "lower bound is -1000.0 and upper bound is 1000.0\n\nupdated lower and upper bounds are 0 \t 1000.0\n\n"
     ]
    }
   ],
   "source": [
    "atps = tfa_model.reactions.get_by_id('ATPS4r')\n",
    "print(\"lower bound is {} and upper bound is {}\\n\".format(atps.lower_bound, atps.upper_bound))\n",
    "atps.lower_bound = 0\n",
    "print(\"updated lower and upper bounds are {} \\t {}\\n\".format(atps.lower_bound, atps.upper_bound))"
   ]
  },
  {
   "source": [
    "We can access the metabolite concentration variables as shown below,"
   ],
   "cell_type": "markdown",
   "metadata": {}
  },
  {
   "cell_type": "code",
   "execution_count": 10,
   "metadata": {},
   "outputs": [
    {
     "output_type": "stream",
     "name": "stdout",
     "text": [
      "\n",
      "Selected objective sense:  MINIMIZE\n",
      "Selected objective  name:  c5b998a4-5b9b-11eb-9753-509a4c43d0a7\n",
      "Selected RHS        name:  rhs\n",
      "Selected bound      name:  bnd\n",
      "                minimum   maximum\n",
      "lnc_glc__D_e -11.512925 -3.912023\n",
      "lnc_gln__L_c -11.512925 -3.912023\n",
      "lnc_gln__L_e -11.512925 -3.912023\n",
      "lnc_glu__L_c -11.512925 -3.912023\n",
      "lnc_glu__L_e -11.512925 -3.912023\n",
      "...                 ...       ...\n",
      "lnc_fru_e    -11.512925 -3.912023\n",
      "lnc_fum_c    -11.512925 -3.912023\n",
      "lnc_fum_e    -11.512925 -3.912023\n",
      "lnc_g3p_c    -11.512925 -3.912023\n",
      "lnc_g6p_c    -11.512925 -3.912023\n",
      "\n",
      "[72 rows x 2 columns]\n"
     ]
    }
   ],
   "source": [
    "concentration_vars = [var.name for var in tfa_model.variables if var.name.startswith('lnc_')]\n",
    "tfa_model.solver = 'cplex'\n",
    "concentration_ranges = analysis.variability_legacy_cplex(tfa_model,variable_list = concentration_vars) # TVA using MIQCP with cplex\n",
    "print(concentration_ranges)"
   ]
  }
 ],
 "metadata": {
  "language_info": {
   "codemirror_mode": {
    "name": "ipython",
    "version": 3
   },
   "file_extension": ".py",
   "mimetype": "text/x-python",
   "name": "python",
   "nbconvert_exporter": "python",
   "pygments_lexer": "ipython3",
   "version": "3.6.9-final"
  },
  "orig_nbformat": 2,
  "kernelspec": {
   "name": "python3",
   "display_name": "Python 3.6.9 64-bit ('test_tmfa')",
   "metadata": {
    "interpreter": {
     "hash": "2586d49dccd52e26ba1525073a1c55b1a3ff7ebecaf4fcfc40336f28cb4872d4"
    }
   }
  }
 },
 "nbformat": 4,
 "nbformat_minor": 2
}
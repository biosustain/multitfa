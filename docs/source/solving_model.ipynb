{
 "cells": [
  {
   "source": [
    "# 2. Solvers\n",
    "\n",
    "multitfa model offers two different ways to solve the tMFA problem (Please refer to manuscript), \n",
    "\n",
    "1. Univariate type, where each group/component is allowed to vary in 95% confidence interval from respective mean. This is formulated as a mixed integer linear programming problem (MILP)\n",
    "\n",
    "2. Multivariate, where group/component are drawn from multivariate normal distribution subjected to the associated linear constraints. This is a mixed integer quadratic constraint program (MIQCP). In general, MIQCP are computationally expensive.\n",
    "\n",
    "\n",
    "multitfa supports multiple solvers using `optlang`. We use this to solve the MILP problems mentioned above. Unfortunately, `optlang` doesnt support quadratic constraints yet, so we use `Cplex` and `Gurobi` to solve the MIQC type problems.\n",
    "\n",
    "Lets see how to use different solvers with *E. coli* core model example\n"
   ],
   "cell_type": "markdown",
   "metadata": {}
  },
  {
   "cell_type": "code",
   "execution_count": 1,
   "metadata": {},
   "outputs": [
    {
     "output_type": "stream",
     "name": "stdout",
     "text": [
      "Downloading package metadata...\n",
      "Fragments already downloaded\n",
      "Downloading package metadata...\n",
      "Fragments already downloaded\n",
      "Downloading package metadata...\n",
      "Fragments already downloaded\n",
      "Using license file /home/vishnu/gurobi.lic\n",
      "Academic license - for non-commercial use only\n",
      "Read LP format model from file /tmp/tmpw25znpe4.lp\n",
      "Reading time = 0.00 seconds\n",
      ": 72 rows, 190 columns, 720 nonzeros\n"
     ]
    }
   ],
   "source": [
    "# This function loads E. coli core model and populates it with thermodynamic constraints as shown in getting started section. We use this to simplify loading and updating for testing purposes.\n",
    "from multitfa.test_model import load_test_data\n",
    "\n",
    "tfa_model = load_test_data()"
   ]
  },
  {
   "source": [
    "We can check which solver `tfa_model` using now"
   ],
   "cell_type": "markdown",
   "metadata": {}
  },
  {
   "cell_type": "code",
   "execution_count": 2,
   "metadata": {
    "tags": []
   },
   "outputs": [
    {
     "output_type": "stream",
     "name": "stdout",
     "text": [
      "<module 'optlang.gurobi_interface' from '/home/vishnu/.virtualenvs/test_tmfa/lib/python3.6/site-packages/optlang/gurobi_interface.py'>\n"
     ]
    }
   ],
   "source": [
    "print(tfa_model.solver.interface)"
   ]
  },
  {
   "source": [
    "Now lets change to `cplex`. Changing the solver is as simple as"
   ],
   "cell_type": "markdown",
   "metadata": {}
  },
  {
   "cell_type": "code",
   "execution_count": 3,
   "metadata": {},
   "outputs": [
    {
     "output_type": "stream",
     "name": "stdout",
     "text": [
      "<module 'optlang.cplex_interface' from '/home/vishnu/.virtualenvs/test_tmfa/lib/python3.6/site-packages/optlang/cplex_interface.py'>\n"
     ]
    }
   ],
   "source": [
    "tfa_model.solver = 'cplex'\n",
    "print(tfa_model.solver.interface)"
   ]
  },
  {
   "source": [
    "`tfa_model` has two separate solver interfaces as properties.\n",
    "\n",
    "1) `cplex_interface`\n",
    "\n",
    "2) `gurobi_interface`\n",
    "\n",
    "Depending on what solver is installed in your environment and what solver you have selected (as shown in previous section), one of the two interfaces above will be active. These are the `Model` containers of respective solvers. You can access them the following way,"
   ],
   "cell_type": "markdown",
   "metadata": {}
  },
  {
   "cell_type": "code",
   "execution_count": 4,
   "metadata": {},
   "outputs": [
    {
     "output_type": "stream",
     "name": "stdout",
     "text": [
      "\n",
      "Selected objective sense:  MINIMIZE\n",
      "Selected objective  name:  62dbb071-5b9d-11eb-9753-509a4c43d0a7\n",
      "Selected RHS        name:  rhs\n",
      "Selected bound      name:  bnd\n"
     ]
    },
    {
     "output_type": "execute_result",
     "data": {
      "text/plain": [
       "<cplex.Cplex at 0x7fce0c161b00>"
      ]
     },
     "metadata": {},
     "execution_count": 4
    }
   ],
   "source": [
    "tfa_model.cplex_interface"
   ]
  },
  {
   "source": [
    "# 2.1 Solving a multiTFA model\n",
    "\n",
    "Once, we populate the model with thermodynamic constraints as described in `section 1.1`, it is time to solve the model. We demonstrate how to solve the model using both univariate and multivariate methods. \n",
    "\n",
    "First lets solve using univariate method, lets call it `box` method.\n"
   ],
   "cell_type": "markdown",
   "metadata": {}
  },
  {
   "cell_type": "code",
   "execution_count": 5,
   "metadata": {
    "tags": []
   },
   "outputs": [
    {
     "output_type": "stream",
     "name": "stdout",
     "text": [
      "<Solution 0.874 at 0x7fcd6574be10>\n"
     ]
    }
   ],
   "source": [
    "solution_box = tfa_model.optimize(solve_method='mip') # Solve using MILP method\n",
    "print(solution_box)"
   ]
  },
  {
   "source": [
    "Solution for the optimization is stored in the `solution_box`, which is instance of the `Solution` class. You can access the attributes like `fluxes`, `Gibbs_energies` and `metabolite_concentrations`. "
   ],
   "cell_type": "markdown",
   "metadata": {}
  },
  {
   "cell_type": "code",
   "execution_count": 6,
   "metadata": {
    "tags": []
   },
   "outputs": [
    {
     "output_type": "stream",
     "name": "stdout",
     "text": [
      "PFK         7.477382\nPFL         0.000000\nPGI         4.860861\nPGK       -16.023526\nPGL         4.959985\n             ...    \nNADH16     38.534610\nNADTRHD     0.000000\nNH4t        4.765319\nO2t        21.799493\nPDH         9.282533\nName: fluxes, Length: 95, dtype: float64 \n\ndG_err_glc__D_e            -1.565741\ndG_err_gln__L_c            -2.667186\ndG_err_gln__L_e            -2.667186\ndG_err_glu__L_c            -2.189853\ndG_err_glu__L_e            -2.189853\n                              ...   \ndG_NADTRHD_reverse_49725    0.368593\ndG_NH4t                     9.161904\ndG_NH4t_reverse_551ee      -9.161904\ndG_PDH                     -6.724673\ndG_PDH_reverse_ca160        6.724673\nName: Gibbs_energies, Length: 216, dtype: float64\n"
     ]
    }
   ],
   "source": [
    "print(solution_box.fluxes,\"\\n\")\n",
    "print(solution_box.Gibbs_energies)"
   ]
  },
  {
   "source": [
    "Now, lets solve the model with MIQC problem with cplex interface."
   ],
   "cell_type": "markdown",
   "metadata": {}
  },
  {
   "cell_type": "code",
   "execution_count": 8,
   "metadata": {
    "tags": []
   },
   "outputs": [
    {
     "output_type": "stream",
     "name": "stdout",
     "text": [
      "<Solution -0.874 at 0x7fcd623d9748>\n"
     ]
    }
   ],
   "source": [
    "solution_miqc =  tfa_model.optimize() # In this case we are solving the MIQCP\n",
    "print(solution_miqc)"
   ]
  },
  {
   "source": [
    "Attributes of `solution_miqc` can be accessed as described above.\n",
    "\n",
    "Please note, there is a bug in `cplex` that reads the model objective in reverse when creating a new model. For example, \n",
    "\n",
    "`max a` is read as `min -a`\n",
    "\n",
    "So, when reading `cplex_interface` solution please reverse the sign."
   ],
   "cell_type": "markdown",
   "metadata": {}
  }
 ],
 "metadata": {
  "language_info": {
   "codemirror_mode": {
    "name": "ipython",
    "version": 3
   },
   "file_extension": ".py",
   "mimetype": "text/x-python",
   "name": "python",
   "nbconvert_exporter": "python",
   "pygments_lexer": "ipython3",
   "version": "3.6.9-final"
  },
  "orig_nbformat": 2,
  "kernelspec": {
   "name": "python3",
   "display_name": "Python 3.6.9 64-bit ('test_tmfa')",
   "metadata": {
    "interpreter": {
     "hash": "2586d49dccd52e26ba1525073a1c55b1a3ff7ebecaf4fcfc40336f28cb4872d4"
    }
   }
  }
 },
 "nbformat": 4,
 "nbformat_minor": 2
}